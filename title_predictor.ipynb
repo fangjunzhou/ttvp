{
 "cells": [
  {
   "cell_type": "code",
   "execution_count": 1,
   "metadata": {},
   "outputs": [],
   "source": [
    "# Add word2vec to python path.\n",
    "import sys\n",
    "sys.path.append(\"external/word2vec\")"
   ]
  },
  {
   "cell_type": "code",
   "execution_count": 2,
   "metadata": {},
   "outputs": [],
   "source": [
    "# Load Config\n",
    "config = {\n",
    "    \"use_cuda\": True,\n",
    "    \n",
    "    \"data_dir\": \"data/\",\n",
    "    \"data_size\": -1,\n",
    "    \"pre_trained_vocab_path\": \"models/skipgram/vocab.pt\",\n",
    "    \"pre_train_embedding_path\": \"models/skipgram/best_val_model_4.27.pt\",\n",
    "    \n",
    "    \"learning_rate\": 0.00025,\n",
    "    \"num_epochs\": 32,\n",
    "    \n",
    "    \"model_dir\": \"models/title-predictor/\",\n",
    "    \"checkpoint_freq\": 4,\n",
    "}"
   ]
  },
  {
   "cell_type": "code",
   "execution_count": 27,
   "metadata": {},
   "outputs": [],
   "source": [
    "import os\n",
    "import time\n",
    "\n",
    "# Data Processing.\n",
    "import json\n",
    "import pandas as pd\n",
    "import numpy as np\n",
    "from sklearn.model_selection import train_test_split\n",
    "\n",
    "# PyTorch.\n",
    "import torch\n",
    "import torch.nn as nn\n",
    "import torch.nn.functional as F\n",
    "from torch.utils.data import Dataset, DataLoader\n",
    "from torchtext.vocab import Vocab\n",
    "from torchtext.data.utils import get_tokenizer\n",
    "\n",
    "# Word2Vec.\n",
    "from external.word2vec.utils.helper import (\n",
    "    load_vocab,\n",
    ")\n",
    "\n",
    "# Plotting.\n",
    "import matplotlib.pyplot as plt"
   ]
  },
  {
   "cell_type": "code",
   "execution_count": null,
   "metadata": {},
   "outputs": [],
   "source": [
    "plt.style.use(\"Solarize_Light2\")"
   ]
  },
  {
   "cell_type": "code",
   "execution_count": 4,
   "metadata": {},
   "outputs": [
    {
     "data": {
      "text/plain": [
       "device(type='cuda')"
      ]
     },
     "execution_count": 4,
     "metadata": {},
     "output_type": "execute_result"
    }
   ],
   "source": [
    "# Check CUDA availability.\n",
    "if config[\"use_cuda\"]:\n",
    "    device = torch.device(\"cuda\" if torch.cuda.is_available() else \"cpu\")\n",
    "else:\n",
    "    device = torch.device(\"cpu\")\n",
    "device"
   ]
  },
  {
   "cell_type": "code",
   "execution_count": 5,
   "metadata": {},
   "outputs": [],
   "source": [
    "# Check if model directory exists.\n",
    "if not os.path.exists(config[\"model_dir\"]):\n",
    "    os.makedirs(config[\"model_dir\"])"
   ]
  },
  {
   "attachments": {},
   "cell_type": "markdown",
   "metadata": {},
   "source": [
    "# Load Data"
   ]
  },
  {
   "cell_type": "code",
   "execution_count": 6,
   "metadata": {},
   "outputs": [
    {
     "data": {
      "text/html": [
       "<div>\n",
       "<style scoped>\n",
       "    .dataframe tbody tr th:only-of-type {\n",
       "        vertical-align: middle;\n",
       "    }\n",
       "\n",
       "    .dataframe tbody tr th {\n",
       "        vertical-align: top;\n",
       "    }\n",
       "\n",
       "    .dataframe thead th {\n",
       "        text-align: right;\n",
       "    }\n",
       "</style>\n",
       "<table border=\"1\" class=\"dataframe\">\n",
       "  <thead>\n",
       "    <tr style=\"text-align: right;\">\n",
       "      <th></th>\n",
       "      <th>Unnamed: 0</th>\n",
       "      <th>video_id</th>\n",
       "      <th>trending_date</th>\n",
       "      <th>title</th>\n",
       "      <th>channel_title</th>\n",
       "      <th>category_id</th>\n",
       "      <th>publish_time</th>\n",
       "      <th>tags</th>\n",
       "      <th>views</th>\n",
       "      <th>likes</th>\n",
       "      <th>dislikes</th>\n",
       "      <th>comment_count</th>\n",
       "      <th>thumbnail_link</th>\n",
       "      <th>comments_disabled</th>\n",
       "      <th>ratings_disabled</th>\n",
       "      <th>video_error_or_removed</th>\n",
       "      <th>description</th>\n",
       "      <th>date_diff</th>\n",
       "      <th>video_link</th>\n",
       "    </tr>\n",
       "  </thead>\n",
       "  <tbody>\n",
       "    <tr>\n",
       "      <th>0</th>\n",
       "      <td>40549</td>\n",
       "      <td>FchkqXEg0qs</td>\n",
       "      <td>2018-06-13</td>\n",
       "      <td>Nintendo @ E3 2018: Day 1</td>\n",
       "      <td>Nintendo</td>\n",
       "      <td>20.0</td>\n",
       "      <td>2018-06-13</td>\n",
       "      <td>nintendo|\"play\"|\"play nintendo\"|\"game\"|\"gamepl...</td>\n",
       "      <td>3238183.0</td>\n",
       "      <td>61841.0</td>\n",
       "      <td>3708.0</td>\n",
       "      <td>0.0</td>\n",
       "      <td>https://i.ytimg.com/vi/FchkqXEg0qs/default.jpg</td>\n",
       "      <td>True</td>\n",
       "      <td>False</td>\n",
       "      <td>False</td>\n",
       "      <td>ESRB Rating: RATING PENDING to Teen. Rating Pe...</td>\n",
       "      <td>0.0</td>\n",
       "      <td>https://www.youtube.com/watch?v=FchkqXEg0qs</td>\n",
       "    </tr>\n",
       "    <tr>\n",
       "      <th>1</th>\n",
       "      <td>5212</td>\n",
       "      <td>ZYCDNf1a-kY</td>\n",
       "      <td>2017-12-10</td>\n",
       "      <td>James Franco Audience Questions Monologue - SNL</td>\n",
       "      <td>Saturday Night Live</td>\n",
       "      <td>24.0</td>\n",
       "      <td>2017-12-10</td>\n",
       "      <td>SNL|\"Saturday Night Live\"|\"SNL Season 43\"|\"Epi...</td>\n",
       "      <td>9423.0</td>\n",
       "      <td>785.0</td>\n",
       "      <td>17.0</td>\n",
       "      <td>129.0</td>\n",
       "      <td>https://i.ytimg.com/vi/ZYCDNf1a-kY/default.jpg</td>\n",
       "      <td>False</td>\n",
       "      <td>False</td>\n",
       "      <td>False</td>\n",
       "      <td>Host James Franco takes questions from audienc...</td>\n",
       "      <td>0.0</td>\n",
       "      <td>https://www.youtube.com/watch?v=ZYCDNf1a-kY</td>\n",
       "    </tr>\n",
       "    <tr>\n",
       "      <th>3</th>\n",
       "      <td>20969</td>\n",
       "      <td>T3hXC5yNZOc</td>\n",
       "      <td>2018-03-01</td>\n",
       "      <td>Iggy Azalea - Savior ft. Quavo</td>\n",
       "      <td>iggyazaleamusicVEVO</td>\n",
       "      <td>10.0</td>\n",
       "      <td>2018-03-01</td>\n",
       "      <td>Iggy|\"Azalea\"|\"Savior\"|\"Island\"|\"Records\"|\"Hip...</td>\n",
       "      <td>285984.0</td>\n",
       "      <td>34129.0</td>\n",
       "      <td>1625.0</td>\n",
       "      <td>4219.0</td>\n",
       "      <td>https://i.ytimg.com/vi/T3hXC5yNZOc/default.jpg</td>\n",
       "      <td>False</td>\n",
       "      <td>False</td>\n",
       "      <td>False</td>\n",
       "      <td>Music video by Iggy Azalea performing Savior. ...</td>\n",
       "      <td>0.0</td>\n",
       "      <td>https://www.youtube.com/watch?v=T3hXC5yNZOc</td>\n",
       "    </tr>\n",
       "    <tr>\n",
       "      <th>4</th>\n",
       "      <td>13613</td>\n",
       "      <td>391JeKrI30w</td>\n",
       "      <td>2018-01-23</td>\n",
       "      <td>Watch the House floor live</td>\n",
       "      <td>Washington Post</td>\n",
       "      <td>25.0</td>\n",
       "      <td>2018-01-23</td>\n",
       "      <td>breaking news video|\"video updates\"|\"live vide...</td>\n",
       "      <td>57143.0</td>\n",
       "      <td>234.0</td>\n",
       "      <td>176.0</td>\n",
       "      <td>146.0</td>\n",
       "      <td>https://i.ytimg.com/vi/391JeKrI30w/default.jpg</td>\n",
       "      <td>False</td>\n",
       "      <td>False</td>\n",
       "      <td>False</td>\n",
       "      <td>House votes to end government shutdown, sendin...</td>\n",
       "      <td>0.0</td>\n",
       "      <td>https://www.youtube.com/watch?v=391JeKrI30w</td>\n",
       "    </tr>\n",
       "    <tr>\n",
       "      <th>5</th>\n",
       "      <td>1208</td>\n",
       "      <td>n6xzsLDzyBk</td>\n",
       "      <td>2017-11-20</td>\n",
       "      <td>Lady Gaga - The Cure (Live at AMA's from Joann...</td>\n",
       "      <td>ladygagaarraza</td>\n",
       "      <td>23.0</td>\n",
       "      <td>2017-11-20</td>\n",
       "      <td>American Music Awards|\"AMA\"|\"Lady Gaga\"|\"The C...</td>\n",
       "      <td>18916.0</td>\n",
       "      <td>1425.0</td>\n",
       "      <td>28.0</td>\n",
       "      <td>180.0</td>\n",
       "      <td>https://i.ytimg.com/vi/n6xzsLDzyBk/default.jpg</td>\n",
       "      <td>False</td>\n",
       "      <td>False</td>\n",
       "      <td>False</td>\n",
       "      <td>Lady Gaga performing The Cure live from Joanne...</td>\n",
       "      <td>0.0</td>\n",
       "      <td>https://www.youtube.com/watch?v=n6xzsLDzyBk</td>\n",
       "    </tr>\n",
       "  </tbody>\n",
       "</table>\n",
       "</div>"
      ],
      "text/plain": [
       "  Unnamed: 0     video_id trending_date  \\\n",
       "0      40549  FchkqXEg0qs    2018-06-13   \n",
       "1       5212  ZYCDNf1a-kY    2017-12-10   \n",
       "3      20969  T3hXC5yNZOc    2018-03-01   \n",
       "4      13613  391JeKrI30w    2018-01-23   \n",
       "5       1208  n6xzsLDzyBk    2017-11-20   \n",
       "\n",
       "                                               title        channel_title  \\\n",
       "0                          Nintendo @ E3 2018: Day 1             Nintendo   \n",
       "1    James Franco Audience Questions Monologue - SNL  Saturday Night Live   \n",
       "3                     Iggy Azalea - Savior ft. Quavo  iggyazaleamusicVEVO   \n",
       "4                         Watch the House floor live      Washington Post   \n",
       "5  Lady Gaga - The Cure (Live at AMA's from Joann...       ladygagaarraza   \n",
       "\n",
       "   category_id publish_time  \\\n",
       "0         20.0   2018-06-13   \n",
       "1         24.0   2017-12-10   \n",
       "3         10.0   2018-03-01   \n",
       "4         25.0   2018-01-23   \n",
       "5         23.0   2017-11-20   \n",
       "\n",
       "                                                tags      views    likes  \\\n",
       "0  nintendo|\"play\"|\"play nintendo\"|\"game\"|\"gamepl...  3238183.0  61841.0   \n",
       "1  SNL|\"Saturday Night Live\"|\"SNL Season 43\"|\"Epi...     9423.0    785.0   \n",
       "3  Iggy|\"Azalea\"|\"Savior\"|\"Island\"|\"Records\"|\"Hip...   285984.0  34129.0   \n",
       "4  breaking news video|\"video updates\"|\"live vide...    57143.0    234.0   \n",
       "5  American Music Awards|\"AMA\"|\"Lady Gaga\"|\"The C...    18916.0   1425.0   \n",
       "\n",
       "   dislikes  comment_count                                  thumbnail_link  \\\n",
       "0    3708.0            0.0  https://i.ytimg.com/vi/FchkqXEg0qs/default.jpg   \n",
       "1      17.0          129.0  https://i.ytimg.com/vi/ZYCDNf1a-kY/default.jpg   \n",
       "3    1625.0         4219.0  https://i.ytimg.com/vi/T3hXC5yNZOc/default.jpg   \n",
       "4     176.0          146.0  https://i.ytimg.com/vi/391JeKrI30w/default.jpg   \n",
       "5      28.0          180.0  https://i.ytimg.com/vi/n6xzsLDzyBk/default.jpg   \n",
       "\n",
       "  comments_disabled ratings_disabled video_error_or_removed  \\\n",
       "0              True            False                  False   \n",
       "1             False            False                  False   \n",
       "3             False            False                  False   \n",
       "4             False            False                  False   \n",
       "5             False            False                  False   \n",
       "\n",
       "                                         description  date_diff  \\\n",
       "0  ESRB Rating: RATING PENDING to Teen. Rating Pe...        0.0   \n",
       "1  Host James Franco takes questions from audienc...        0.0   \n",
       "3  Music video by Iggy Azalea performing Savior. ...        0.0   \n",
       "4  House votes to end government shutdown, sendin...        0.0   \n",
       "5  Lady Gaga performing The Cure live from Joanne...        0.0   \n",
       "\n",
       "                                    video_link  \n",
       "0  https://www.youtube.com/watch?v=FchkqXEg0qs  \n",
       "1  https://www.youtube.com/watch?v=ZYCDNf1a-kY  \n",
       "3  https://www.youtube.com/watch?v=T3hXC5yNZOc  \n",
       "4  https://www.youtube.com/watch?v=391JeKrI30w  \n",
       "5  https://www.youtube.com/watch?v=n6xzsLDzyBk  "
      ]
     },
     "execution_count": 6,
     "metadata": {},
     "output_type": "execute_result"
    }
   ],
   "source": [
    "videoDf = pd.read_csv(\"data/usvideos_rm_dup.csv\")\n",
    "# Remove all nan view values.\n",
    "videoDf = videoDf.dropna()\n",
    "videoDf.head()"
   ]
  },
  {
   "cell_type": "code",
   "execution_count": 7,
   "metadata": {},
   "outputs": [],
   "source": [
    "# Dataset for twitter financial news text.\n",
    "class YouTubeTitleViewDataset(Dataset):\n",
    "    def __init__(self, df: pd.DataFrame, size = -1):\n",
    "        self.titleDf = df\n",
    "        # Shuffle and take a subset of the data.\n",
    "        if size > 0:\n",
    "            self.titleDf = self.titleDf.sample(frac=1).reset_index(drop=True)\n",
    "            self.titleDf = self.titleDf[:size]\n",
    "        else:\n",
    "            self.titleDf = self.titleDf.sample(frac=1).reset_index(drop=True)\n",
    "        \n",
    "    def __len__(self):\n",
    "        return len(self.titleDf)\n",
    "    \n",
    "    def __getitem__(self, idx):\n",
    "        title = self.titleDf[\"title\"][idx]\n",
    "        view = self.titleDf[\"views\"][idx]\n",
    "        return str(title), view\n",
    "\n",
    "    def __iter__(self):\n",
    "        for i in range(len(self)):\n",
    "            yield self[i]"
   ]
  },
  {
   "cell_type": "code",
   "execution_count": 8,
   "metadata": {},
   "outputs": [
    {
     "data": {
      "text/plain": [
       "6230"
      ]
     },
     "execution_count": 8,
     "metadata": {},
     "output_type": "execute_result"
    }
   ],
   "source": [
    "# Create title dataset.\n",
    "titleDataset = YouTubeTitleViewDataset(videoDf, size = config[\"data_size\"])\n",
    "len(titleDataset)"
   ]
  },
  {
   "cell_type": "code",
   "execution_count": 9,
   "metadata": {},
   "outputs": [
    {
     "data": {
      "text/plain": [
       "(4984, 1246)"
      ]
     },
     "execution_count": 9,
     "metadata": {},
     "output_type": "execute_result"
    }
   ],
   "source": [
    "# Split train and test dataset.\n",
    "trainSet, valSet = train_test_split(titleDataset, test_size=0.2)\n",
    "len(trainSet), len(valSet)"
   ]
  },
  {
   "cell_type": "code",
   "execution_count": 10,
   "metadata": {},
   "outputs": [
    {
     "data": {
      "text/plain": [
       "('This is so cool! Hit me with your rhythm stick.', 31872.0)"
      ]
     },
     "execution_count": 10,
     "metadata": {},
     "output_type": "execute_result"
    }
   ],
   "source": [
    "titleDataset[0]"
   ]
  },
  {
   "attachments": {},
   "cell_type": "markdown",
   "metadata": {},
   "source": [
    "# Load Vocab and Tokenizer"
   ]
  },
  {
   "cell_type": "code",
   "execution_count": 11,
   "metadata": {},
   "outputs": [
    {
     "name": "stdout",
     "output_type": "stream",
     "text": [
      "Pretrained vocab size: 11611\n"
     ]
    }
   ],
   "source": [
    "if (config[\"pre_trained_vocab_path\"]):\n",
    "    vocab: Vocab = load_vocab(config[\"pre_trained_vocab_path\"])\n",
    "    vocabSize = len(vocab.get_stoi())\n",
    "    print(f\"Pretrained vocab size: {vocabSize}\")\n",
    "else:\n",
    "    print(f\"No vocab path provided.\")"
   ]
  },
  {
   "cell_type": "code",
   "execution_count": 12,
   "metadata": {},
   "outputs": [
    {
     "name": "stdout",
     "output_type": "stream",
     "text": [
      "Vocab size: 11613\n"
     ]
    }
   ],
   "source": [
    "# Add SOS and EOS tokens.\n",
    "vocab.append_token(\"<SOS>\")\n",
    "vocab.append_token(\"<EOS>\")\n",
    "vocabSize = len(vocab.get_stoi())\n",
    "print(f\"Vocab size: {vocabSize}\")"
   ]
  },
  {
   "cell_type": "code",
   "execution_count": 13,
   "metadata": {},
   "outputs": [
    {
     "data": {
      "text/plain": [
       "<function torchtext.data.utils._basic_english_normalize(line)>"
      ]
     },
     "execution_count": 13,
     "metadata": {},
     "output_type": "execute_result"
    }
   ],
   "source": [
    "# Get the english tokenizer.\n",
    "tokenizer = get_tokenizer(\"basic_english\", language=\"en\")\n",
    "tokenizer"
   ]
  },
  {
   "cell_type": "code",
   "execution_count": 14,
   "metadata": {},
   "outputs": [
    {
     "name": "stdout",
     "output_type": "stream",
     "text": [
      "This is so cool! Hit me with your rhythm stick.\n",
      "31872.0\n",
      "['<SOS>', 'this', 'is', 'so', 'cool', '!', 'hit', 'me', 'with', 'your', 'rhythm', 'stick', '.', '<EOS>']\n",
      "[11611, 26, 15, 24, 284, 14, 509, 22, 25, 71, 5204, 1184, 1, 11612]\n"
     ]
    }
   ],
   "source": [
    "# Get the first sentence and view.\n",
    "sentence, view = titleDataset[0]\n",
    "print(sentence)\n",
    "print(view)\n",
    "# Tokenize the sentence.\n",
    "tokenizedSentence: list = tokenizer(sentence)\n",
    "tokenizedSentence.insert(0, \"<SOS>\")\n",
    "tokenizedSentence.append(\"<EOS>\")\n",
    "print(tokenizedSentence)\n",
    "# Convert the tokens to ids.\n",
    "print(vocab(tokenizedSentence))"
   ]
  },
  {
   "attachments": {},
   "cell_type": "markdown",
   "metadata": {},
   "source": [
    "# Model"
   ]
  },
  {
   "cell_type": "code",
   "execution_count": 16,
   "metadata": {},
   "outputs": [
    {
     "name": "stdout",
     "output_type": "stream",
     "text": [
      "Embedding weight shape: torch.Size([11611, 300])\n",
      "Embedding layer shape: torch.Size([11613, 300])\n",
      "Pretrained embedding loaded. Embedding layer shape: torch.Size([11613, 300])\n"
     ]
    }
   ],
   "source": [
    "# Loading pretrained embedding weight.\n",
    "embeddingWeight = torch.load(config[\"pre_train_embedding_path\"])[\"embeddings.weight\"]\n",
    "print(f\"Embedding weight shape: {embeddingWeight.shape}\")\n",
    "# Create an embedding layer.\n",
    "embedding = nn.Embedding(vocabSize, embeddingWeight.shape[1])\n",
    "print(f\"Embedding layer shape: {embedding.weight.shape}\")\n",
    "# Load pretrained embedding weight.\n",
    "with torch.no_grad():\n",
    "    embedding.weight.data[:embeddingWeight.shape[0]] = embeddingWeight\n",
    "print(f\"Pretrained embedding loaded. Embedding layer shape: {embedding.weight.shape}\")"
   ]
  },
  {
   "attachments": {},
   "cell_type": "markdown",
   "metadata": {},
   "source": [
    "# Training"
   ]
  },
  {
   "cell_type": "code",
   "execution_count": 17,
   "metadata": {},
   "outputs": [
    {
     "name": "stdout",
     "output_type": "stream",
     "text": [
      "Using pretrained embedding.\n"
     ]
    }
   ],
   "source": [
    "# Create model.\n",
    "model = TitlePredictor(\n",
    "    vocabSize,\n",
    "    embeddingSize = embeddingWeight.shape[1],\n",
    "    hiddenSize = 256,\n",
    "    numLayers = 2,\n",
    "    dropout = 0.5,\n",
    "    embedding = embedding\n",
    ")\n",
    "model = model.to(device)"
   ]
  },
  {
   "cell_type": "code",
   "execution_count": 18,
   "metadata": {},
   "outputs": [],
   "source": [
    "# Setup loss function and optimizer.\n",
    "lossFunction = nn.MSELoss()\n",
    "optimizer = torch.optim.Adam(model.parameters(), lr=config[\"learning_rate\"])"
   ]
  },
  {
   "cell_type": "code",
   "execution_count": 19,
   "metadata": {},
   "outputs": [
    {
     "name": "stdout",
     "output_type": "stream",
     "text": [
      "Epoch: 1/32\n",
      "Epoch: 1/32, Train Loss: 6.0863, Val Loss: 4.6069\n",
      "Best model saved.\n",
      "Elapsed time: 0.42 minutes.\n",
      "Average time per epoch: 0.42 minutes.\n",
      "Estimated time remaining: 12.89 minutes.\n",
      "Epoch: 2/32\n",
      "Epoch: 2/32, Train Loss: 3.9930, Val Loss: 3.8067\n",
      "Best model saved.\n",
      "Elapsed time: 0.80 minutes.\n",
      "Average time per epoch: 0.40 minutes.\n",
      "Estimated time remaining: 11.94 minutes.\n",
      "Epoch: 3/32\n",
      "Epoch: 3/32, Train Loss: 3.0255, Val Loss: 4.0084\n",
      "Elapsed time: 1.19 minutes.\n",
      "Average time per epoch: 0.40 minutes.\n",
      "Estimated time remaining: 11.46 minutes.\n",
      "Epoch: 4/32\n",
      "Epoch: 4/32, Train Loss: 2.4412, Val Loss: 4.5206\n",
      "Checkpoint saved at epoch 4.\n",
      "Elapsed time: 1.57 minutes.\n",
      "Average time per epoch: 0.39 minutes.\n",
      "Estimated time remaining: 11.00 minutes.\n",
      "Epoch: 5/32\n",
      "Epoch: 5/32, Train Loss: 2.1529, Val Loss: 4.3209\n",
      "Elapsed time: 1.98 minutes.\n",
      "Average time per epoch: 0.40 minutes.\n",
      "Estimated time remaining: 10.67 minutes.\n",
      "Epoch: 6/32\n",
      "Epoch: 6/32, Train Loss: 1.8810, Val Loss: 3.9819\n",
      "Elapsed time: 2.36 minutes.\n",
      "Average time per epoch: 0.39 minutes.\n",
      "Estimated time remaining: 10.23 minutes.\n",
      "Epoch: 7/32\n",
      "Epoch: 7/32, Train Loss: 1.7260, Val Loss: 4.1665\n",
      "Elapsed time: 2.77 minutes.\n",
      "Average time per epoch: 0.40 minutes.\n",
      "Estimated time remaining: 9.88 minutes.\n",
      "Epoch: 8/32\n",
      "Epoch: 8/32, Train Loss: 1.5423, Val Loss: 3.8491\n",
      "Checkpoint saved at epoch 8.\n",
      "Elapsed time: 3.18 minutes.\n",
      "Average time per epoch: 0.40 minutes.\n",
      "Estimated time remaining: 9.53 minutes.\n",
      "Epoch: 9/32\n",
      "Epoch: 9/32, Train Loss: 1.4674, Val Loss: 5.4622\n",
      "Elapsed time: 3.59 minutes.\n",
      "Average time per epoch: 0.40 minutes.\n",
      "Estimated time remaining: 9.18 minutes.\n",
      "Epoch: 10/32\n",
      "Epoch: 10/32, Train Loss: 1.3507, Val Loss: 5.1731\n",
      "Elapsed time: 3.99 minutes.\n",
      "Average time per epoch: 0.40 minutes.\n",
      "Estimated time remaining: 8.79 minutes.\n",
      "Epoch: 11/32\n",
      "Epoch: 11/32, Train Loss: 1.3077, Val Loss: 4.1111\n",
      "Elapsed time: 4.39 minutes.\n",
      "Average time per epoch: 0.40 minutes.\n",
      "Estimated time remaining: 8.38 minutes.\n",
      "Epoch: 12/32\n",
      "Epoch: 12/32, Train Loss: 1.1681, Val Loss: 3.7903\n",
      "Best model saved.\n",
      "Checkpoint saved at epoch 12.\n",
      "Elapsed time: 4.79 minutes.\n",
      "Average time per epoch: 0.40 minutes.\n",
      "Estimated time remaining: 7.99 minutes.\n",
      "Epoch: 13/32\n",
      "Epoch: 13/32, Train Loss: 1.1109, Val Loss: 4.9866\n",
      "Elapsed time: 5.18 minutes.\n",
      "Average time per epoch: 0.40 minutes.\n",
      "Estimated time remaining: 7.57 minutes.\n",
      "Epoch: 14/32\n",
      "Epoch: 14/32, Train Loss: 0.9949, Val Loss: 4.5243\n",
      "Elapsed time: 5.60 minutes.\n",
      "Average time per epoch: 0.40 minutes.\n",
      "Estimated time remaining: 7.20 minutes.\n",
      "Epoch: 15/32\n",
      "Epoch: 15/32, Train Loss: 0.8577, Val Loss: 3.8591\n",
      "Elapsed time: 6.01 minutes.\n",
      "Average time per epoch: 0.40 minutes.\n",
      "Estimated time remaining: 6.81 minutes.\n",
      "Epoch: 16/32\n",
      "Epoch: 16/32, Train Loss: 0.6954, Val Loss: 3.8892\n",
      "Checkpoint saved at epoch 16.\n",
      "Elapsed time: 6.47 minutes.\n",
      "Average time per epoch: 0.40 minutes.\n",
      "Estimated time remaining: 6.47 minutes.\n",
      "Epoch: 17/32\n",
      "Epoch: 17/32, Train Loss: 0.5445, Val Loss: 3.6372\n",
      "Best model saved.\n",
      "Elapsed time: 6.87 minutes.\n",
      "Average time per epoch: 0.40 minutes.\n",
      "Estimated time remaining: 6.06 minutes.\n",
      "Epoch: 18/32\n",
      "Epoch: 18/32, Train Loss: 0.4438, Val Loss: 3.3231\n",
      "Best model saved.\n",
      "Elapsed time: 7.31 minutes.\n",
      "Average time per epoch: 0.41 minutes.\n",
      "Estimated time remaining: 5.68 minutes.\n",
      "Epoch: 19/32\n",
      "Epoch: 19/32, Train Loss: 0.3978, Val Loss: 3.1829\n",
      "Best model saved.\n",
      "Elapsed time: 7.77 minutes.\n",
      "Average time per epoch: 0.41 minutes.\n",
      "Estimated time remaining: 5.32 minutes.\n",
      "Epoch: 20/32\n",
      "Epoch: 20/32, Train Loss: 0.3388, Val Loss: 3.2093\n",
      "Checkpoint saved at epoch 20.\n",
      "Elapsed time: 8.23 minutes.\n",
      "Average time per epoch: 0.41 minutes.\n",
      "Estimated time remaining: 4.94 minutes.\n",
      "Epoch: 21/32\n",
      "Epoch: 21/32, Train Loss: 0.3251, Val Loss: 3.3589\n",
      "Elapsed time: 8.69 minutes.\n",
      "Average time per epoch: 0.41 minutes.\n",
      "Estimated time remaining: 4.55 minutes.\n",
      "Epoch: 22/32\n",
      "Epoch: 22/32, Train Loss: 0.3144, Val Loss: 3.3967\n",
      "Elapsed time: 9.17 minutes.\n",
      "Average time per epoch: 0.42 minutes.\n",
      "Estimated time remaining: 4.17 minutes.\n",
      "Epoch: 23/32\n",
      "Epoch: 23/32, Train Loss: 0.2822, Val Loss: 3.5166\n",
      "Elapsed time: 9.59 minutes.\n",
      "Average time per epoch: 0.42 minutes.\n",
      "Estimated time remaining: 3.75 minutes.\n",
      "Epoch: 24/32\n",
      "Epoch: 24/32, Train Loss: 0.2637, Val Loss: 3.3263\n",
      "Checkpoint saved at epoch 24.\n",
      "Elapsed time: 9.98 minutes.\n",
      "Average time per epoch: 0.42 minutes.\n",
      "Estimated time remaining: 3.33 minutes.\n",
      "Epoch: 25/32\n",
      "Epoch: 25/32, Train Loss: 0.2525, Val Loss: 3.2063\n",
      "Elapsed time: 10.41 minutes.\n",
      "Average time per epoch: 0.42 minutes.\n",
      "Estimated time remaining: 2.91 minutes.\n",
      "Epoch: 26/32\n",
      "Epoch: 26/32, Train Loss: 0.2442, Val Loss: 3.0993\n",
      "Best model saved.\n",
      "Elapsed time: 10.81 minutes.\n",
      "Average time per epoch: 0.42 minutes.\n",
      "Estimated time remaining: 2.50 minutes.\n",
      "Epoch: 27/32\n",
      "Epoch: 27/32, Train Loss: 0.2256, Val Loss: 3.1468\n",
      "Elapsed time: 11.21 minutes.\n",
      "Average time per epoch: 0.42 minutes.\n",
      "Estimated time remaining: 2.08 minutes.\n",
      "Epoch: 28/32\n",
      "Epoch: 28/32, Train Loss: 0.2129, Val Loss: 3.0353\n",
      "Best model saved.\n",
      "Checkpoint saved at epoch 28.\n",
      "Elapsed time: 11.62 minutes.\n",
      "Average time per epoch: 0.41 minutes.\n",
      "Estimated time remaining: 1.66 minutes.\n",
      "Epoch: 29/32\n",
      "Epoch: 29/32, Train Loss: 0.2154, Val Loss: 3.1621\n",
      "Elapsed time: 12.05 minutes.\n",
      "Average time per epoch: 0.42 minutes.\n",
      "Estimated time remaining: 1.25 minutes.\n",
      "Epoch: 30/32\n",
      "Epoch: 30/32, Train Loss: 0.2064, Val Loss: 3.2031\n",
      "Elapsed time: 12.51 minutes.\n",
      "Average time per epoch: 0.42 minutes.\n",
      "Estimated time remaining: 0.83 minutes.\n",
      "Epoch: 31/32\n",
      "Epoch: 31/32, Train Loss: 0.2024, Val Loss: 2.9484\n",
      "Best model saved.\n",
      "Elapsed time: 13.08 minutes.\n",
      "Average time per epoch: 0.42 minutes.\n",
      "Estimated time remaining: 0.42 minutes.\n",
      "Epoch: 32/32\n",
      "Epoch: 32/32, Train Loss: 0.1996, Val Loss: 2.9308\n",
      "Best model saved.\n",
      "Checkpoint saved at epoch 32.\n",
      "Elapsed time: 13.54 minutes.\n",
      "Average time per epoch: 0.42 minutes.\n",
      "Estimated time remaining: 0.00 minutes.\n"
     ]
    }
   ],
   "source": [
    "trainLosses = []\n",
    "valLosses = []\n",
    "startTime = time.time()\n",
    "bestValLoss = float(\"inf\")\n",
    "bestValModel = None\n",
    "\n",
    "# Train the model.\n",
    "for epoch in range(config[\"num_epochs\"]):\n",
    "    print(f\"Epoch: {epoch+1}/{config['num_epochs']}\")\n",
    "    # Train the model.\n",
    "    trainLossVal = 0\n",
    "    valLossVal = 0\n",
    "    for i, (title, view) in enumerate(trainSet):\n",
    "        # Tokenize the sentence.\n",
    "        tokenizedSentence: list = tokenizer(title)\n",
    "        tokenizedSentence.insert(0, \"<SOS>\")\n",
    "        tokenizedSentence.append(\"<EOS>\")\n",
    "        # Convert the tokens to ids.\n",
    "        tokenizedSentence = vocab(tokenizedSentence)\n",
    "        # Convert to tensor.\n",
    "        tokenizedSentence = torch.tensor(tokenizedSentence).to(device)\n",
    "        # Reshape to [sentence length, 1]\n",
    "        tokenizedSentence = tokenizedSentence.unsqueeze(1)\n",
    "        # Get the view.\n",
    "        view = torch.tensor([view]).to(device)\n",
    "        # Get the natural log of the view.\n",
    "        view = torch.log(view)\n",
    "        # Reshape to [1]\n",
    "        view = view.unsqueeze(0)\n",
    "        # Forward pass.\n",
    "        prediction = model(tokenizedSentence)\n",
    "        # Compute loss.\n",
    "        trainLoss = lossFunction(prediction, view.float())\n",
    "        # Backward pass.\n",
    "        optimizer.zero_grad()\n",
    "        trainLoss.backward()\n",
    "        # Update parameters.\n",
    "        optimizer.step()\n",
    "        # Add loss to train loss.\n",
    "        trainLossVal += trainLoss.item()\n",
    "        \n",
    "        print(f\"Sentence: {i+1}/{len(trainSet)}\", end=\"\\r\")\n",
    "    \n",
    "    # Validate the model.\n",
    "    with torch.no_grad():\n",
    "        for i, (title, view) in enumerate(valSet):\n",
    "            # Tokenize the sentence.\n",
    "            tokenizedSentence: list = tokenizer(title)\n",
    "            tokenizedSentence.insert(0, \"<SOS>\")\n",
    "            tokenizedSentence.append(\"<EOS>\")\n",
    "            # Convert the tokens to ids.\n",
    "            tokenizedSentence = vocab(tokenizedSentence)\n",
    "            # Convert to tensor.\n",
    "            tokenizedSentence = torch.tensor(tokenizedSentence).to(device)\n",
    "            # Reshape to [sentence length, 1]\n",
    "            tokenizedSentence = tokenizedSentence.unsqueeze(1)\n",
    "            # Get the view.\n",
    "            view = torch.tensor([view]).to(device)\n",
    "            # Get the natural log of the view.\n",
    "            view = torch.log(view)\n",
    "            # reshape to [1]\n",
    "            view = view.unsqueeze(0)\n",
    "            # Forward pass.\n",
    "            prediction = model(tokenizedSentence)\n",
    "            # Compute loss.\n",
    "            valLoss = lossFunction(prediction, view)\n",
    "            # Add loss to validation loss.\n",
    "            valLossVal += valLoss.item()\n",
    "    \n",
    "    avgTrainLoss = trainLossVal/len(trainSet)\n",
    "    avgValLoss = valLossVal/len(valSet)\n",
    "    \n",
    "    # Print loss.\n",
    "    print(f\"Epoch: {epoch+1}/{config['num_epochs']}, Train Loss: {avgTrainLoss:.4f}, Val Loss: {avgValLoss:.4f}\")\n",
    "    \n",
    "    trainLosses.append(avgTrainLoss)\n",
    "    valLosses.append(avgValLoss)\n",
    "    \n",
    "    # Save the model with the lowest validation loss.\n",
    "    if avgValLoss < bestValLoss:\n",
    "        bestValLoss = avgValLoss\n",
    "        bestValModel = model\n",
    "        print(\"Best model saved.\")\n",
    "    \n",
    "    # Save checkpoint.\n",
    "    if (epoch+1) % config[\"checkpoint_freq\"] == 0:\n",
    "        checkpoint = {\n",
    "            \"epoch\": epoch+1,\n",
    "            \"model\": model.state_dict(),\n",
    "            \"optimizer\": optimizer.state_dict(),\n",
    "            \"trainLosses\": trainLosses,\n",
    "            \"valLosses\": valLosses\n",
    "        }\n",
    "        torch.save(checkpoint, f\"{config['model_dir']}/checkpoint_{epoch+1}.pt\")\n",
    "        print(f\"Checkpoint saved at epoch {epoch+1}.\")\n",
    "    \n",
    "    # Calculate time.\n",
    "    currTime = time.time()\n",
    "    elapsedTime = currTime - startTime\n",
    "    print(f\"Elapsed time: {elapsedTime/60:.2f} minutes.\")\n",
    "    print(f\"Average time per epoch: {elapsedTime/(epoch+1)/60:.2f} minutes.\")\n",
    "    print(f\"Estimated time remaining: {(config['num_epochs'] - epoch - 1)*elapsedTime/(epoch+1)/60:.2f} minutes.\")\n",
    "        "
   ]
  },
  {
   "cell_type": "code",
   "execution_count": 20,
   "metadata": {},
   "outputs": [],
   "source": [
    "# Save the model.\n",
    "torch.save(bestValModel.state_dict(), f\"{config['model_dir']}/best_val_{bestValLoss:.2f}.pt\")\n",
    "# Save vocabulary.\n",
    "torch.save(vocab, f\"{config['model_dir']}/vocab.pt\")\n",
    "# Save the loss.\n",
    "with open(f\"{config['model_dir']}/loss.json\", \"w\") as f:\n",
    "    json.dump({\n",
    "        \"trainLosses\": trainLosses,\n",
    "        \"valLosses\": valLosses\n",
    "    }, f)"
   ]
  },
  {
   "attachments": {},
   "cell_type": "markdown",
   "metadata": {},
   "source": [
    "# Plot the Loss"
   ]
  },
  {
   "cell_type": "code",
   "execution_count": 21,
   "metadata": {},
   "outputs": [
    {
     "data": {
      "text/plain": [
       "<matplotlib.legend.Legend at 0x7f4b4f701be0>"
      ]
     },
     "execution_count": 21,
     "metadata": {},
     "output_type": "execute_result"
    },
    {
     "data": {
      "image/png": "[encoded data removed]",
      "text/plain": [
       "<Figure size 640x480 with 1 Axes>"
      ]
     },
     "metadata": {},
     "output_type": "display_data"
    }
   ],
   "source": [
    "# Plot the loss.\n",
    "plt.plot(trainLosses, label=\"Train Loss\")\n",
    "plt.plot(valLosses, label=\"Val Loss\")\n",
    "plt.legend()"
   ]
  },
  {
   "cell_type": "code",
   "execution_count": 22,
   "metadata": {},
   "outputs": [
    {
     "data": {
      "text/html": [
       "<div>\n",
       "<style scoped>\n",
       "    .dataframe tbody tr th:only-of-type {\n",
       "        vertical-align: middle;\n",
       "    }\n",
       "\n",
       "    .dataframe tbody tr th {\n",
       "        vertical-align: top;\n",
       "    }\n",
       "\n",
       "    .dataframe thead th {\n",
       "        text-align: right;\n",
       "    }\n",
       "</style>\n",
       "<table border=\"1\" class=\"dataframe\">\n",
       "  <thead>\n",
       "    <tr style=\"text-align: right;\">\n",
       "      <th></th>\n",
       "      <th>Unnamed: 0</th>\n",
       "      <th>video_id</th>\n",
       "      <th>trending_date</th>\n",
       "      <th>title</th>\n",
       "      <th>channel_title</th>\n",
       "      <th>category_id</th>\n",
       "      <th>publish_time</th>\n",
       "      <th>tags</th>\n",
       "      <th>views</th>\n",
       "      <th>likes</th>\n",
       "      <th>dislikes</th>\n",
       "      <th>comment_count</th>\n",
       "      <th>thumbnail_link</th>\n",
       "      <th>comments_disabled</th>\n",
       "      <th>ratings_disabled</th>\n",
       "      <th>video_error_or_removed</th>\n",
       "      <th>description</th>\n",
       "      <th>date_diff</th>\n",
       "      <th>video_link</th>\n",
       "    </tr>\n",
       "  </thead>\n",
       "  <tbody>\n",
       "    <tr>\n",
       "      <th>1454</th>\n",
       "      <td>14782</td>\n",
       "      <td>y6KYFcta4SE</td>\n",
       "      <td>2018-01-28</td>\n",
       "      <td>1 dead, others injured after Ky. school shooting</td>\n",
       "      <td>Newsy</td>\n",
       "      <td>25.0</td>\n",
       "      <td>2018-01-23</td>\n",
       "      <td>shooting|\"kentucky\"|\"breaking news\"|\"u.s. news...</td>\n",
       "      <td>559.0</td>\n",
       "      <td>9.0</td>\n",
       "      <td>0.0</td>\n",
       "      <td>4.0</td>\n",
       "      <td>https://i.ytimg.com/vi/y6KYFcta4SE/default.jpg</td>\n",
       "      <td>False</td>\n",
       "      <td>False</td>\n",
       "      <td>False</td>\n",
       "      <td>Kentucky Gov. Matt Bevin confirmed there was a...</td>\n",
       "      <td>5.0</td>\n",
       "      <td>https://www.youtube.com/watch?v=y6KYFcta4SE</td>\n",
       "    </tr>\n",
       "    <tr>\n",
       "      <th>991</th>\n",
       "      <td>777</td>\n",
       "      <td>-JVITToppE0</td>\n",
       "      <td>2017-11-17</td>\n",
       "      <td>Coach Taggart Monday Presser Ahead of Arizona</td>\n",
       "      <td>GoDucksdotcom</td>\n",
       "      <td>17.0</td>\n",
       "      <td>2017-11-13</td>\n",
       "      <td>Oregon|\"Ducks\"|\"college athletics\"|\"college fo...</td>\n",
       "      <td>704.0</td>\n",
       "      <td>10.0</td>\n",
       "      <td>2.0</td>\n",
       "      <td>5.0</td>\n",
       "      <td>https://i.ytimg.com/vi/-JVITToppE0/default.jpg</td>\n",
       "      <td>False</td>\n",
       "      <td>False</td>\n",
       "      <td>False</td>\n",
       "      <td>Coach Taggart addresses the media ahead of the...</td>\n",
       "      <td>4.0</td>\n",
       "      <td>https://www.youtube.com/watch?v=-JVITToppE0</td>\n",
       "    </tr>\n",
       "    <tr>\n",
       "      <th>6006</th>\n",
       "      <td>14984</td>\n",
       "      <td>dQMZLXaa1L8</td>\n",
       "      <td>2018-01-29</td>\n",
       "      <td>Artwork Forge</td>\n",
       "      <td>Palo Alto Online</td>\n",
       "      <td>17.0</td>\n",
       "      <td>2018-01-10</td>\n",
       "      <td>[none]</td>\n",
       "      <td>745.0</td>\n",
       "      <td>1.0</td>\n",
       "      <td>0.0</td>\n",
       "      <td>0.0</td>\n",
       "      <td>https://i.ytimg.com/vi/dQMZLXaa1L8/default.jpg</td>\n",
       "      <td>False</td>\n",
       "      <td>False</td>\n",
       "      <td>False</td>\n",
       "      <td>Artwork Forge II - an art installation created...</td>\n",
       "      <td>19.0</td>\n",
       "      <td>https://www.youtube.com/watch?v=dQMZLXaa1L8</td>\n",
       "    </tr>\n",
       "    <tr>\n",
       "      <th>377</th>\n",
       "      <td>12716</td>\n",
       "      <td>zeQaJGkFyqQ</td>\n",
       "      <td>2018-01-18</td>\n",
       "      <td>Raw: 3 South Carolina Deputies, 1 Officer Shot</td>\n",
       "      <td>Associated Press</td>\n",
       "      <td>25.0</td>\n",
       "      <td>2018-01-16</td>\n",
       "      <td>news|\"associated press\"|\"ap\"|\"ap online\"|\"asso...</td>\n",
       "      <td>748.0</td>\n",
       "      <td>9.0</td>\n",
       "      <td>0.0</td>\n",
       "      <td>0.0</td>\n",
       "      <td>https://i.ytimg.com/vi/zeQaJGkFyqQ/default.jpg</td>\n",
       "      <td>True</td>\n",
       "      <td>False</td>\n",
       "      <td>False</td>\n",
       "      <td>Three deputies and one police officer were sho...</td>\n",
       "      <td>2.0</td>\n",
       "      <td>https://www.youtube.com/watch?v=zeQaJGkFyqQ</td>\n",
       "    </tr>\n",
       "    <tr>\n",
       "      <th>6352</th>\n",
       "      <td>160</td>\n",
       "      <td>qg0GdM60syI</td>\n",
       "      <td>2017-11-14</td>\n",
       "      <td>Huffy Metaloid Bicycle Commercial 1997</td>\n",
       "      <td>90s Commercials</td>\n",
       "      <td>27.0</td>\n",
       "      <td>2017-03-31</td>\n",
       "      <td>90s commercials|\"Huffy\"</td>\n",
       "      <td>773.0</td>\n",
       "      <td>2.0</td>\n",
       "      <td>0.0</td>\n",
       "      <td>0.0</td>\n",
       "      <td>https://i.ytimg.com/vi/qg0GdM60syI/default.jpg</td>\n",
       "      <td>False</td>\n",
       "      <td>False</td>\n",
       "      <td>False</td>\n",
       "      <td>Anyone have one of those?</td>\n",
       "      <td>228.0</td>\n",
       "      <td>https://www.youtube.com/watch?v=qg0GdM60syI</td>\n",
       "    </tr>\n",
       "  </tbody>\n",
       "</table>\n",
       "</div>"
      ],
      "text/plain": [
       "     Unnamed: 0     video_id trending_date  \\\n",
       "1454      14782  y6KYFcta4SE    2018-01-28   \n",
       "991         777  -JVITToppE0    2017-11-17   \n",
       "6006      14984  dQMZLXaa1L8    2018-01-29   \n",
       "377       12716  zeQaJGkFyqQ    2018-01-18   \n",
       "6352        160  qg0GdM60syI    2017-11-14   \n",
       "\n",
       "                                                 title     channel_title  \\\n",
       "1454  1 dead, others injured after Ky. school shooting             Newsy   \n",
       "991      Coach Taggart Monday Presser Ahead of Arizona     GoDucksdotcom   \n",
       "6006                                     Artwork Forge  Palo Alto Online   \n",
       "377     Raw: 3 South Carolina Deputies, 1 Officer Shot  Associated Press   \n",
       "6352            Huffy Metaloid Bicycle Commercial 1997   90s Commercials   \n",
       "\n",
       "      category_id publish_time  \\\n",
       "1454         25.0   2018-01-23   \n",
       "991          17.0   2017-11-13   \n",
       "6006         17.0   2018-01-10   \n",
       "377          25.0   2018-01-16   \n",
       "6352         27.0   2017-03-31   \n",
       "\n",
       "                                                   tags  views  likes  \\\n",
       "1454  shooting|\"kentucky\"|\"breaking news\"|\"u.s. news...  559.0    9.0   \n",
       "991   Oregon|\"Ducks\"|\"college athletics\"|\"college fo...  704.0   10.0   \n",
       "6006                                             [none]  745.0    1.0   \n",
       "377   news|\"associated press\"|\"ap\"|\"ap online\"|\"asso...  748.0    9.0   \n",
       "6352                            90s commercials|\"Huffy\"  773.0    2.0   \n",
       "\n",
       "      dislikes  comment_count                                  thumbnail_link  \\\n",
       "1454       0.0            4.0  https://i.ytimg.com/vi/y6KYFcta4SE/default.jpg   \n",
       "991        2.0            5.0  https://i.ytimg.com/vi/-JVITToppE0/default.jpg   \n",
       "6006       0.0            0.0  https://i.ytimg.com/vi/dQMZLXaa1L8/default.jpg   \n",
       "377        0.0            0.0  https://i.ytimg.com/vi/zeQaJGkFyqQ/default.jpg   \n",
       "6352       0.0            0.0  https://i.ytimg.com/vi/qg0GdM60syI/default.jpg   \n",
       "\n",
       "     comments_disabled ratings_disabled video_error_or_removed  \\\n",
       "1454             False            False                  False   \n",
       "991              False            False                  False   \n",
       "6006             False            False                  False   \n",
       "377               True            False                  False   \n",
       "6352             False            False                  False   \n",
       "\n",
       "                                            description  date_diff  \\\n",
       "1454  Kentucky Gov. Matt Bevin confirmed there was a...        5.0   \n",
       "991   Coach Taggart addresses the media ahead of the...        4.0   \n",
       "6006  Artwork Forge II - an art installation created...       19.0   \n",
       "377   Three deputies and one police officer were sho...        2.0   \n",
       "6352                          Anyone have one of those?      228.0   \n",
       "\n",
       "                                       video_link  \n",
       "1454  https://www.youtube.com/watch?v=y6KYFcta4SE  \n",
       "991   https://www.youtube.com/watch?v=-JVITToppE0  \n",
       "6006  https://www.youtube.com/watch?v=dQMZLXaa1L8  \n",
       "377   https://www.youtube.com/watch?v=zeQaJGkFyqQ  \n",
       "6352  https://www.youtube.com/watch?v=qg0GdM60syI  "
      ]
     },
     "execution_count": 22,
     "metadata": {},
     "output_type": "execute_result"
    }
   ],
   "source": [
    "# Sort the data by view.\n",
    "videoDf = videoDf.sort_values(by=\"views\", ascending=True)\n",
    "videoDf.head()"
   ]
  },
  {
   "cell_type": "code",
   "execution_count": 23,
   "metadata": {},
   "outputs": [
    {
     "data": {
      "text/plain": [
       "(101, 101)"
      ]
     },
     "execution_count": 23,
     "metadata": {},
     "output_type": "execute_result"
    }
   ],
   "source": [
    "# Get 100 evenly spaced indices.\n",
    "indices = range(0, len(videoDf), len(videoDf)//100)\n",
    "indices = list(indices)\n",
    "# Get the title and view.\n",
    "titles = videoDf[\"title\"].iloc[indices].tolist()\n",
    "views = videoDf[\"views\"].iloc[indices].tolist()\n",
    "len(titles), len(views)"
   ]
  },
  {
   "cell_type": "code",
   "execution_count": 24,
   "metadata": {},
   "outputs": [
    {
     "name": "stdout",
     "output_type": "stream",
     "text": [
      "Sentence: 101/101\r"
     ]
    },
    {
     "name": "stderr",
     "output_type": "stream",
     "text": [
      "/tmp/ipykernel_123452/1947743469.py:15: UserWarning: To copy construct from a tensor, it is recommended to use sourceTensor.clone().detach() or sourceTensor.clone().detach().requires_grad_(True), rather than torch.tensor(sourceTensor).\n",
      "  tokenizedSentence = torch.tensor(tokenizedSentence).to(device)\n"
     ]
    },
    {
     "data": {
      "text/plain": [
       "101"
      ]
     },
     "execution_count": 24,
     "metadata": {},
     "output_type": "execute_result"
    }
   ],
   "source": [
    "# Predict the views.\n",
    "predictedViews = []\n",
    "with torch.no_grad():\n",
    "    for i, title in enumerate(titles):\n",
    "        # Tokenize the sentence.\n",
    "        tokenizedSentence: list = tokenizer(title)\n",
    "        tokenizedSentence.insert(0, \"<SOS>\")\n",
    "        tokenizedSentence.append(\"<EOS>\")\n",
    "        # Convert the tokens to ids.\n",
    "        tokenizedSentence = vocab(tokenizedSentence)\n",
    "        tokenizedSentence = torch.tensor(tokenizedSentence).to(device)\n",
    "        # Reshape to [sentence length, 1]\n",
    "        tokenizedSentence = tokenizedSentence.unsqueeze(1)\n",
    "        # Convert to tensor.\n",
    "        tokenizedSentence = torch.tensor(tokenizedSentence).to(device)\n",
    "        # Forward pass.\n",
    "        prediction = model(tokenizedSentence)\n",
    "        # Get the view.\n",
    "        predictedView = torch.exp(prediction).item()\n",
    "        predictedViews.append(predictedView)\n",
    "        print(f\"Sentence: {i+1}/{len(titles)}\", end=\"\\r\")\n",
    "len(predictedViews)"
   ]
  },
  {
   "cell_type": "code",
   "execution_count": 25,
   "metadata": {},
   "outputs": [
    {
     "data": {
      "text/plain": [
       "('Roomba Rodeo', 110590.0, 83486.9921875)"
      ]
     },
     "execution_count": 25,
     "metadata": {},
     "output_type": "execute_result"
    }
   ],
   "source": [
    "titles[20], views[20], predictedViews[20]"
   ]
  },
  {
   "cell_type": "code",
   "execution_count": 28,
   "metadata": {},
   "outputs": [],
   "source": [
    "# Convert views and predicted views to log scale.\n",
    "logVies = np.log(views)\n",
    "logPredictedViews = np.log(predictedViews)"
   ]
  },
  {
   "cell_type": "code",
   "execution_count": 29,
   "metadata": {},
   "outputs": [
    {
     "data": {
      "text/plain": [
       "<matplotlib.legend.Legend at 0x7f4b4f7c83d0>"
      ]
     },
     "execution_count": 29,
     "metadata": {},
     "output_type": "execute_result"
    },
    {
     "data": {
      "image/png": "[encoded data removed]",
      "text/plain": [
       "<Figure size 640x480 with 1 Axes>"
      ]
     },
     "metadata": {},
     "output_type": "display_data"
    }
   ],
   "source": [
    "# Plot the predicted views and actual views.\n",
    "plt, ax = plt.subplots()\n",
    "ax.plot(logVies, label=\"Actual Views\")\n",
    "ax.plot(logPredictedViews, label=\"Predicted Views\")\n",
    "ax.legend()"
   ]
  }
 ],
 "metadata": {
  "kernelspec": {
   "display_name": "venv",
   "language": "python",
   "name": "python3"
  },
  "language_info": {
   "codemirror_mode": {
    "name": "ipython",
    "version": 3
   },
   "file_extension": ".py",
   "mimetype": "text/x-python",
   "name": "python",
   "nbconvert_exporter": "python",
   "pygments_lexer": "ipython3",
   "version": "3.8.10"
  },
  "orig_nbformat": 4,
  "vscode": {
   "interpreter": {
    "hash": "4f92cc221f18ca953eb7b72a3bd486009e4f771bfc246436a572e9938561415e"
   }
  }
 },
 "nbformat": 4,
 "nbformat_minor": 2
}
