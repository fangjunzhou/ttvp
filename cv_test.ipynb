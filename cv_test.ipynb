{
 "cells": [
  {
   "cell_type": "code",
   "execution_count": 2,
   "metadata": {},
   "outputs": [],
   "source": [
    "import torch\n",
    "\n",
    "import torch.nn as nn\n",
    "import torch.optim as optim\n",
    "from PIL import Image\n",
    "import torchvision.transforms as transforms\n",
    "import torchvision.models as models\n",
    "from torchvision.models import VGG19_Weights\n",
    "from torchvision.utils import save_image\n",
    "import time\n",
    "\n",
    "\n",
    "class VGGFeatures(nn.Module):\n",
    "    def __init__(self):\n",
    "        super(VGGFeatures, self).__init__()\n",
    "        self.model = models.vgg19(weights=VGG19_Weights.DEFAULT).features[:37]\n",
    "\n",
    "    def forward(self, x):\n",
    "        return self.model.forward(x)\n",
    "\n",
    "\n",
    "class ContentToViews(nn.Module):\n",
    "    def __init__(self):\n",
    "        super(ContentToViews, self).__init__()\n",
    "        self.vgg = VGGFeatures() # the output shape is (1, 512, 7, 7)\n",
    "        self.other_layers = nn.Sequential(\n",
    "            nn.Conv2d(512, 512, 3),\n",
    "            nn.MaxPool2d(2),\n",
    "            nn.Conv2d(256, 256, 3),\n",
    "            nn.MaxPool2d(2),\n",
    "            nn.Linear(256 * 7 * 7, 4096),\n",
    "            nn.Dropout(0.4),\n",
    "            nn.ReLU(),\n",
    "            nn.Linear(4096, 1024),\n",
    "            nn.Dropout(0.4),\n",
    "            nn.ReLU(),\n",
    "            nn.Linear(1024, 512),\n",
    "        )\n",
    "\n",
    "\n",
    "    def forward(self, input):\n",
    "        \"\"\"\n",
    "        The output should be a scalar value,\n",
    "        The input should be the same as VGG input\n",
    "        \"\"\"\n",
    "        out = self.vgg(input)\n",
    "        out = out.view(out.size(0), -1)\n",
    "        out = self.other_layers(out)\n",
    "        return out"
   ]
  }
 ],
 "metadata": {
  "kernelspec": {
   "display_name": "venv",
   "language": "python",
   "name": "python3"
  },
  "language_info": {
   "codemirror_mode": {
    "name": "ipython",
    "version": 3
   },
   "file_extension": ".py",
   "mimetype": "text/x-python",
   "name": "python",
   "nbconvert_exporter": "python",
   "pygments_lexer": "ipython3",
   "version": "3.8.10"
  },
  "orig_nbformat": 4,
  "vscode": {
   "interpreter": {
    "hash": "4139c6df244ec63028675182556681dc358c9dc54c70d2d1685759c524fc969b"
   }
  }
 },
 "nbformat": 4,
 "nbformat_minor": 2
}
