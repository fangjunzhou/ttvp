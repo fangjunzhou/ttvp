{
 "cells": [
  {
   "cell_type": "code",
   "execution_count": null,
   "metadata": {},
   "outputs": [],
   "source": []
  }
 ],
 "metadata": {
  "kernelspec": {
   "display_name": "venv",
   "language": "python",
   "name": "python3"
  },
  "language_info": {
   "name": "python",
   "version": "3.10.9"
  },
  "orig_nbformat": 4,
  "vscode": {
   "interpreter": {
    "hash": "3f080ccbf7d21f9863aa87df1b677e181e3975fde97c7b5f9a83752bb1b99d02"
   }
  }
 },
 "nbformat": 4,
 "nbformat_minor": 2
}
